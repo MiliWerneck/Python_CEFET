{
  "nbformat": 4,
  "nbformat_minor": 0,
  "metadata": {
    "colab": {
      "provenance": [],
      "toc_visible": true,
      "authorship_tag": "ABX9TyNBJhko5ef8kjAQhQU5rcNs",
      "include_colab_link": true
    },
    "kernelspec": {
      "name": "python3",
      "display_name": "Python 3"
    },
    "language_info": {
      "name": "python"
    }
  },
  "cells": [
    {
      "cell_type": "markdown",
      "metadata": {
        "id": "view-in-github",
        "colab_type": "text"
      },
      "source": [
        "<a href=\"https://colab.research.google.com/github/MiliWerneck/Python_CEFET/blob/main/aula01.ipynb\" target=\"_parent\"><img src=\"https://colab.research.google.com/assets/colab-badge.svg\" alt=\"Open In Colab\"/></a>"
      ]
    },
    {
      "cell_type": "code",
      "source": [
        "x = int(input(\"Digite um valor inteiro: \"))\n",
        "if x >= 0 and x <= 90:\n",
        "  print(\"O ângulo {angulo} é do primeiro quadrante!\".format(angulo = x))\n",
        "elif x > 90 and x <= 180:\n",
        "   print(\"O ângulo {angulo} é do segundo quadrante!\".format(angulo = x))\n",
        "elif x > 180 and x <= 270:\n",
        "   print(\"O ângulo {angulo} é do terceiro quadrante!\".format(angulo = x))\n",
        "elif x > 270 and x <= 360:\n",
        "   print(\"O ângulo {angulo} é do quarto quadrante!\".format(angulo = x))\n",
        "else:\n",
        "  print(\"Valor inválido!\")"
      ],
      "metadata": {
        "colab": {
          "base_uri": "https://localhost:8080/"
        },
        "id": "esSoRDq3mpgb",
        "outputId": "5d997247-523d-4fc5-c5cb-fc474039b92f"
      },
      "execution_count": null,
      "outputs": [
        {
          "output_type": "stream",
          "name": "stdout",
          "text": [
            "Digite um valor inteiro: 180\n",
            "O ângulo 180 é do segundo quadrante!\n"
          ]
        }
      ]
    },
    {
      "cell_type": "code",
      "source": [
        "lista=[0,1,2,3,4,5,6,7]\n",
        "lista1=[0,1,2,3,4,5,6,7]\n",
        "lista2=[]\n",
        "for i in range(len(lista)):\n",
        "  lista2.append(lista[i]+lista1[i])\n",
        "print(lista2)"
      ],
      "metadata": {
        "colab": {
          "base_uri": "https://localhost:8080/"
        },
        "id": "9BMVF8Xnpgtc",
        "outputId": "841e3651-12d8-4523-8bc1-de870038804f"
      },
      "execution_count": null,
      "outputs": [
        {
          "output_type": "stream",
          "name": "stdout",
          "text": [
            "[0, 2, 4, 6, 8, 10, 12, 14]\n"
          ]
        }
      ]
    },
    {
      "cell_type": "code",
      "source": [
        "lista=[0,1,2,3,4,5,6,7]\n",
        "lista1=[0,1,2,3,4,5,6,7]\n",
        "lista2=[]\n",
        "lista2.append(lista+lista1)\n",
        "print(lista2)"
      ],
      "metadata": {
        "colab": {
          "base_uri": "https://localhost:8080/"
        },
        "id": "OQGHFPK0q4Q0",
        "outputId": "517f027a-d581-427a-cba9-a7ab79aa2c88"
      },
      "execution_count": null,
      "outputs": [
        {
          "output_type": "stream",
          "name": "stdout",
          "text": [
            "[[0, 1, 2, 3, 4, 5, 6, 7, 0, 1, 2, 3, 4, 5, 6, 7]]\n"
          ]
        }
      ]
    },
    {
      "cell_type": "code",
      "source": [
        "a = \"CEFET\"\n",
        "b = \"-\"\n",
        "c = \"MG\"\n",
        "print(a+b+c)"
      ],
      "metadata": {
        "colab": {
          "base_uri": "https://localhost:8080/"
        },
        "id": "5ruv7zA0rtrt",
        "outputId": "a2b06f04-adf9-4866-e91b-7301d89b97b5"
      },
      "execution_count": null,
      "outputs": [
        {
          "output_type": "stream",
          "name": "stdout",
          "text": [
            "CEFET-MG\n"
          ]
        }
      ]
    },
    {
      "cell_type": "markdown",
      "source": [
        "Próxima aula: Comentários do Python, Variáveis em Python"
      ],
      "metadata": {
        "id": "DiCgyl9CuQbk"
      }
    },
    {
      "cell_type": "markdown",
      "source": [
        "Aula 01:\n",
        "Teste de quadrante\n",
        "\n",
        "Polimorfismo\n"
      ],
      "metadata": {
        "id": "Rq5k8Oy3iXzN"
      }
    }
  ]
}