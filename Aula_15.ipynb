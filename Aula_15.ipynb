{
  "nbformat": 4,
  "nbformat_minor": 0,
  "metadata": {
    "colab": {
      "provenance": [],
      "collapsed_sections": [
        "CfsWkJLe5Da7",
        "6xqu9kpyFneQ"
      ],
      "include_colab_link": true
    },
    "kernelspec": {
      "name": "python3",
      "display_name": "Python 3"
    },
    "language_info": {
      "name": "python"
    }
  },
  "cells": [
    {
      "cell_type": "markdown",
      "metadata": {
        "id": "view-in-github",
        "colab_type": "text"
      },
      "source": [
        "<a href=\"https://colab.research.google.com/github/MiliWerneck/Python_CEFET/blob/main/Aula_15.ipynb\" target=\"_parent\"><img src=\"https://colab.research.google.com/assets/colab-badge.svg\" alt=\"Open In Colab\"/></a>"
      ]
    },
    {
      "cell_type": "markdown",
      "source": [
        "#**Classes e objetos Python**\n",
        "---\n",
        "\n",
        "##Definição\tde\tclasse\te\tinstanciação\tdos objetos:"
      ],
      "metadata": {
        "id": "CfsWkJLe5Da7"
      }
    },
    {
      "cell_type": "code",
      "execution_count": null,
      "metadata": {
        "colab": {
          "base_uri": "https://localhost:8080/"
        },
        "id": "d_xBJ0ic5Apx",
        "outputId": "63160ea9-ecda-4cbd-e32b-203bd7e1856b"
      },
      "outputs": [
        {
          "output_type": "stream",
          "name": "stdout",
          "text": [
            "preto\n",
            "branco\n"
          ]
        }
      ],
      "source": [
        "class Carro:\n",
        "  def\t__init__(self):\n",
        "    self.cor\t=\t\"preto\"\n",
        "    self.__cnh =''\n",
        "\n",
        "#\tum\tnovo\tcarro\té\tcriado\tcom\tcor\t=\t\"preto\"\n",
        "carro_1\t=\tCarro()\n",
        "print(carro_1.cor)\n",
        "\n",
        "\n",
        "#\talterando\to\tvalor\tda\tcolor\tde\tcarro_1\tpara\t\"branco\"\n",
        "carro_1.cor\t=\t\"branco\"\n",
        "print(carro_1.cor)"
      ]
    },
    {
      "cell_type": "markdown",
      "source": [
        "#**Encapsulamento**\n",
        "---\n",
        "###Encapsulamento\t é\t um\t recurso\t da\t Orientação\t a\t Objetos\t que permite\t agrupar\t código\t e\t os\t dados\t que\t esse\t código\tmanipula\t em uma\t única\t entidade,\t protegendo\t estes  elementos\t contra interferências\t externas,\t acesso\t indevido\t e/ou utilização/modificação\t inadequada\t por\t outro\t trecho\t de\t código definido\tfora\tdo\tcódigo\tencapsulado.\n",
        "---\n",
        "\n",
        "###Python\tconsidera\tque existem\tos\ttipos\tpublic\te\tnon-public.\tPara\tmarcar\tcomo\tnon-public, usa-se\t dois\t underscores\t `(\t__\t)\t antes\t do\t nome\t do\t atributo\t ou método.\n",
        "\n",
        "###**Exemplo**:"
      ],
      "metadata": {
        "id": "6xqu9kpyFneQ"
      }
    },
    {
      "cell_type": "code",
      "source": [
        "class Conta:\n",
        "  def\t__init__(self,\tnumero,\tsaldo):\n",
        "    self.__numero\t=\tnumero\n",
        "    self.__saldo\t=\tsaldo\n",
        "\n",
        "  def\tconsulta_saldo(self):\n",
        "    return self.__saldo\n",
        "\n",
        "conta1234\t=\tConta(1234,\t750.84)\n",
        "print(conta1234.consulta_saldo())"
      ],
      "metadata": {
        "colab": {
          "base_uri": "https://localhost:8080/"
        },
        "id": "FR3MSGFuHPXY",
        "outputId": "f98dfd72-827f-4a12-fb08-3bdee05946ec"
      },
      "execution_count": null,
      "outputs": [
        {
          "output_type": "stream",
          "name": "stdout",
          "text": [
            "750.84\n"
          ]
        }
      ]
    },
    {
      "cell_type": "markdown",
      "source": [
        "###Acesso direto ao atributo: O interpretador acusa que o atributo __saldo (non-public) não existe\tna classe\tConta."
      ],
      "metadata": {
        "id": "pC8HVyssJlIW"
      }
    },
    {
      "cell_type": "code",
      "source": [
        "conta1234.__saldo"
      ],
      "metadata": {
        "colab": {
          "base_uri": "https://localhost:8080/",
          "height": 173
        },
        "id": "LZ48PqJ3JGI5",
        "outputId": "05a797a9-ad28-4060-8e82-b2e414f0421d"
      },
      "execution_count": null,
      "outputs": [
        {
          "output_type": "error",
          "ename": "AttributeError",
          "evalue": "ignored",
          "traceback": [
            "\u001b[0;31m---------------------------------------------------------------------------\u001b[0m",
            "\u001b[0;31mAttributeError\u001b[0m                            Traceback (most recent call last)",
            "\u001b[0;32m<ipython-input-4-8a0b030f5094>\u001b[0m in \u001b[0;36m<cell line: 1>\u001b[0;34m()\u001b[0m\n\u001b[0;32m----> 1\u001b[0;31m \u001b[0mconta1234\u001b[0m\u001b[0;34m.\u001b[0m\u001b[0m__saldo\u001b[0m\u001b[0;34m\u001b[0m\u001b[0;34m\u001b[0m\u001b[0m\n\u001b[0m",
            "\u001b[0;31mAttributeError\u001b[0m: 'Conta' object has no attribute '__saldo'"
          ]
        }
      ]
    },
    {
      "cell_type": "markdown",
      "source": [
        "### Em\tPython\tnão\t existem\tatributos\t realmente\t privados\t (apenas um\talerta\tde\tque\tvocê\tnão\tdeveria\testar\ttentando\tacessá-lo),\tsendo possível acessar\t__saldo\tfazendo:"
      ],
      "metadata": {
        "id": "ezcuG84iLu23"
      }
    },
    {
      "cell_type": "code",
      "source": [
        "conta1234._Conta__saldo"
      ],
      "metadata": {
        "id": "o2A-MXRIL45n",
        "colab": {
          "base_uri": "https://localhost:8080/"
        },
        "outputId": "cdce925a-2e64-4aee-8448-b631458ac3c5"
      },
      "execution_count": null,
      "outputs": [
        {
          "output_type": "execute_result",
          "data": {
            "text/plain": [
              "750.84"
            ]
          },
          "metadata": {},
          "execution_count": 5
        }
      ]
    },
    {
      "cell_type": "markdown",
      "source": [
        "#**Herança**\n",
        "---\n",
        "###A\t herança\t permite\t que\t as\t características\t e\t comportamentos descritos\t para\t caracterizar\t uma\t classe\t \"pai\"\t (superclasse)\t possam ser\t herdados\t pela\t sua\t classe\t \"filha”\t (subclasse).\tCom\t a\t herança,\t é possível\t concentrar\t as\t partes\t comuns\t na\t classe\t pai\t e\t as\t partes específicas\tnas\tclasses\tfilhas.\n",
        "---\n",
        "###O\t trecho\t de\t código\t a\t seguir\t ilustra\t a\t definição da\t classe\t pai `Pessoa`\te\tas classes filhas `Aluno` e\t`Professor`.\tEm\tseguida, são criados um objeto do\ttipo `Aluno` e um objeto do tipo `Professor`.\n",
        "###Observação: Ao\t definir\t o\t método `__init__` nas classes `Aluno` e `Professor`, o\tmétodo `__init__` da\tclasse `Pessoa` não\té\therdado."
      ],
      "metadata": {
        "id": "yw9cPsJeMSgl"
      }
    },
    {
      "cell_type": "code",
      "source": [
        "#\tClasse\tPessoa\n",
        "class Pessoa:\n",
        "  def\t__init__(self,\tnome='',\tlogin='',\tsenha=''):\n",
        "    self.__nome\t=\tnome\n",
        "    self.__login\t=\tlogin\n",
        "    self.__senha\t=\tsenha\n",
        "\n",
        "  def\tconsulta_nome(self):\n",
        "    return\tself.__nome\n",
        "\n",
        "#\tClasse\tAluno\n",
        "class Aluno(Pessoa):\n",
        "  def __init__(self,\tnome,\tlogin,\tsenha,\tcurso):\n",
        "    Pessoa.__init__(self,\tnome,\tlogin,\tsenha)\n",
        "    self.__curso\t=\tcurso\n",
        "\n",
        "  def\tconsulta_curso(self):\n",
        "    return\tself.__curso\n",
        "\n",
        "#\tClasse\tProfessor\n",
        "class Professor(Pessoa):\n",
        "  def\t__init__(self,\tnome,\tlogin,\tsenha,\ttitulacao):\n",
        "    Pessoa.__init__(self,\tnome,\tlogin,\tsenha)\n",
        "    self.__titulacao\t=\ttitulacao\n",
        "\n",
        "  def\tconsulta_titulacao(self):\n",
        "    return\tself.__titulacao\n",
        "\n",
        "pessoa1\t=\tPessoa('Maria',\t'mary',\t'm123')\n",
        "print(pessoa1.consulta_nome())\n",
        "aluna1\t=\tAluno('Viviane',\t'vivi',\t'v123',\t'Informática')\n",
        "print(aluna1.consulta_nome())\n",
        "print(aluna1.consulta_curso())\n",
        "prof1\t=\tProfessor('Tatiana',\t'tati',\t't123',\t'Doutorado')\n",
        "print(prof1.consulta_nome())\n",
        "print(prof1.consulta_titulacao())"
      ],
      "metadata": {
        "id": "Tb6LqqHnMV6r",
        "colab": {
          "base_uri": "https://localhost:8080/"
        },
        "outputId": "de838674-71d1-43f6-8b1b-cdcb18c26338"
      },
      "execution_count": null,
      "outputs": [
        {
          "output_type": "stream",
          "name": "stdout",
          "text": [
            "Maria\n",
            "Viviane\n",
            "Informática\n",
            "Tatiana\n",
            "Doutorado\n"
          ]
        }
      ]
    },
    {
      "cell_type": "markdown",
      "source": [
        "#**Polimorfismo**\n",
        "---\n",
        "###Polimorfismo é a capacidade\tde um  objeto poder ser referenciado  de  várias formas (o que não significa que o objeto pode se  transformar\tem\toutro\t tipo).\tSe\t tivermos\tum\tmétodo\tque espera\treceber\t um\t objeto\t do\t tipo\t \tPessoa\t,\t ele\t pode\t receber\t no lugar\tum\tobjeto\tdo\ttipo\t\tAluno\t\tou\tdo\ttipo\t\tProfessor\t.\tObserve o\texemplo\ta\tseguir:"
      ],
      "metadata": {
        "id": "Tqsop4ywS7V4"
      }
    },
    {
      "cell_type": "code",
      "source": [
        "class EntradaUniversidade:\n",
        "  def\t__init__(self):\n",
        "    pass\n",
        "\n",
        "  def\tpermite_entrada(self,\tpessoa):\n",
        "    print(\"Pode entrar, \"\t+\tpessoa.consulta_nome())\n",
        "\n",
        "entrada\t=\tEntradaUniversidade()\n",
        "entrada.permite_entrada(prof1)\n",
        "\n",
        "class Coordenador(Pessoa):\n",
        "  def\t__init__(self,\tnome,\tlogin,\tsenha):\n",
        "    Pessoa.__init__(self,\tnome,\tlogin,\tsenha)\n",
        "\n",
        "coord1\t=\tCoordenador('Marcos',\t'mk',\t'm123')\n",
        "entrada.permite_entrada(coord1)"
      ],
      "metadata": {
        "id": "9Ix60yPtUKiY",
        "colab": {
          "base_uri": "https://localhost:8080/"
        },
        "outputId": "b29710a9-e166-4c60-cdbb-bf87f589afea"
      },
      "execution_count": null,
      "outputs": [
        {
          "output_type": "stream",
          "name": "stdout",
          "text": [
            "Pode entrar, Tatiana\n",
            "Pode entrar, Marcos\n"
          ]
        }
      ]
    },
    {
      "cell_type": "markdown",
      "source": [
        "###Repare\t que a\t funcionalidade\t representada\t pelo\t método `permite_entrada`\tfoi\tconstruída\tantes\tmesmo\tque\ttodos\tos\ttipos de `Pessoa` fossem\tcriados, mas, ainda assim, ela continuou funcionando sem problemas\tapós a\tcriação da nova\tsubclasse `Coordenador`, sem\t que fosse necessária nenhuma\talteração no código.\n",
        "---"
      ],
      "metadata": {
        "id": "QoR2PwIfU3VX"
      }
    },
    {
      "cell_type": "markdown",
      "source": [
        "#**Abstração**\n",
        "---\n",
        "###Ainda\tanalisando o exemplo anterior, repare que não faz sentido\t termos\tno nosso sistema uma classe\t`Pessoa`, pois os usuários\t do\t sistema serão de tipos específicos como `Aluno`, `Professor`, `Coordenador`, mas nunca\ttão genéricos como `Pessoa`.\n",
        "---\n",
        "###Em\tPython, uma classe abstrata deve conter pelo\tmenos um método abstrato,\te\tpodemos\tcriar\tuma\tclasse\tabstrata herdando\tda superclasse\tpara\tclasses\tabstratas\tABC\t(*Abstract\tBase\tClasses*),\tdo módulo abc. Para\tisso,\tdevemos\timportar\tesse\tmódulo\tno\tnosso código.\tObserve\tcomo\tficaria:"
      ],
      "metadata": {
        "id": "fxnqoM7JXnoG"
      }
    },
    {
      "cell_type": "code",
      "source": [
        "import abc\n",
        "\n",
        "class Pessoa(abc.ABC):\n",
        "  def\t__init__(self,\tnome,\tlogin,\tsenha):\n",
        "    self.nome\t=\tnome\n",
        "    self.login = login\n",
        "    self.senha = senha\n",
        "\n",
        "  @abc.abstractmethod\n",
        "  def\tconsulta_nome(self):\n",
        "    raise NotImplementedError()\n",
        "\n",
        "#\tClasse\tAluno\n",
        "class Aluno(Pessoa):\n",
        "  def __init__(self,\tnome,\tlogin,\tsenha,\tcurso):\n",
        "    Pessoa.__init__(self,\tnome,\tlogin,\tsenha)\n",
        "    self.__curso\t=\tcurso\n",
        "\n",
        "  def\tconsulta_nome(self):\n",
        "    return self.nome\n",
        "\n",
        "  def\tconsulta_curso(self):\n",
        "    return\tself.__curso\n",
        "\n",
        "#\tClasse\tProfessor\n",
        "class Professor(Pessoa):\n",
        "  def\t__init__(self,\tnome,\tlogin,\tsenha,\ttitulacao):\n",
        "    Pessoa.__init__(self,\tnome,\tlogin,\tsenha)\n",
        "    self.__titulacao\t=\ttitulacao\n",
        "\n",
        "  def\tconsulta_nome(self):\n",
        "    return\tself.nome\n",
        "\n",
        "  def\tconsulta_titulacao(self):\n",
        "    return\tself.__titulacao\n",
        "\n",
        "aluna1\t=\tAluno('Viviane',\t'vivi',\t'v123',\t'Informática')\n",
        "print(aluna1.consulta_nome())\n",
        "print(aluna1.consulta_curso())\n",
        "prof1\t=\tProfessor('Tatiana',\t'tati',\t't123',\t'Doutorado')\n",
        "print(prof1.consulta_nome())\n",
        "print(prof1.consulta_titulacao())"
      ],
      "metadata": {
        "id": "AjFgQykBeYZR",
        "colab": {
          "base_uri": "https://localhost:8080/"
        },
        "outputId": "0ac428db-155f-447b-8288-b90b2a1348df"
      },
      "execution_count": null,
      "outputs": [
        {
          "output_type": "stream",
          "name": "stdout",
          "text": [
            "Viviane\n",
            "Informática\n",
            "Tatiana\n",
            "Doutorado\n"
          ]
        }
      ]
    },
    {
      "cell_type": "markdown",
      "source": [
        "#**Erro**: Não é possível instanciar uma classe abstrata."
      ],
      "metadata": {
        "id": "UZFuHPkqNmMb"
      }
    },
    {
      "cell_type": "code",
      "source": [
        "pessoa1\t=\tPessoa('Maria',\t'mary',\t'm123')"
      ],
      "metadata": {
        "id": "DZb3PmvpNPn4",
        "colab": {
          "base_uri": "https://localhost:8080/",
          "height": 176
        },
        "outputId": "7a9e3a6d-1a43-4e07-81cb-c9e864ff6e31"
      },
      "execution_count": null,
      "outputs": [
        {
          "output_type": "error",
          "ename": "TypeError",
          "evalue": "ignored",
          "traceback": [
            "\u001b[0;31m---------------------------------------------------------------------------\u001b[0m",
            "\u001b[0;31mTypeError\u001b[0m                                 Traceback (most recent call last)",
            "\u001b[0;32m<ipython-input-4-529a16517abe>\u001b[0m in \u001b[0;36m<cell line: 1>\u001b[0;34m()\u001b[0m\n\u001b[0;32m----> 1\u001b[0;31m \u001b[0mpessoa1\u001b[0m \u001b[0;34m=\u001b[0m       \u001b[0mPessoa\u001b[0m\u001b[0;34m(\u001b[0m\u001b[0;34m'Maria'\u001b[0m\u001b[0;34m,\u001b[0m \u001b[0;34m'mary'\u001b[0m\u001b[0;34m,\u001b[0m \u001b[0;34m'm123'\u001b[0m\u001b[0;34m)\u001b[0m\u001b[0;34m\u001b[0m\u001b[0;34m\u001b[0m\u001b[0m\n\u001b[0m",
            "\u001b[0;31mTypeError\u001b[0m: Can't instantiate abstract class Pessoa with abstract method consulta_nome"
          ]
        }
      ]
    }
  ]
}