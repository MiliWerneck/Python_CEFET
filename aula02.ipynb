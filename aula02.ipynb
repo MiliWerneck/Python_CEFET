{
  "nbformat": 4,
  "nbformat_minor": 0,
  "metadata": {
    "colab": {
      "provenance": [],
      "authorship_tag": "ABX9TyPT6vs1ICbn04Qy021uAkY+",
      "include_colab_link": true
    },
    "kernelspec": {
      "name": "python3",
      "display_name": "Python 3"
    },
    "language_info": {
      "name": "python"
    }
  },
  "cells": [
    {
      "cell_type": "markdown",
      "metadata": {
        "id": "view-in-github",
        "colab_type": "text"
      },
      "source": [
        "<a href=\"https://colab.research.google.com/github/MiliWerneck/Python_CEFET/blob/main/aula02.ipynb\" target=\"_parent\"><img src=\"https://colab.research.google.com/assets/colab-badge.svg\" alt=\"Open In Colab\"/></a>"
      ]
    },
    {
      "cell_type": "code",
      "execution_count": null,
      "metadata": {
        "colab": {
          "base_uri": "https://localhost:8080/"
        },
        "id": "6zR4E0kUu_sx",
        "outputId": "d96ab4d3-e820-421d-a03d-204f4a3d2eba"
      },
      "outputs": [
        {
          "output_type": "stream",
          "name": "stdout",
          "text": [
            "Hello, World!\n"
          ]
        }
      ],
      "source": [
        "# Comentários simples assim\n",
        "\n",
        "\"\"\"\n",
        "Comentários\n",
        "múltiplos\n",
        "assim...\n",
        "\"\"\"\n",
        "\n",
        "print(\"Hello, World!\")"
      ]
    },
    {
      "cell_type": "code",
      "source": [
        "#Para saber tipo de variável usamos type\n",
        "\n",
        "x = str(3)    # x will be '3'\n",
        "y = int(3)    # y will be 3\n",
        "z = float(3)  # z will be 3.0\n",
        "print(x)\n",
        "print(y)\n",
        "print(z)\n",
        "\n",
        "print(type(x))\n",
        "print(type(y))\n",
        "print(type(z))"
      ],
      "metadata": {
        "colab": {
          "base_uri": "https://localhost:8080/"
        },
        "id": "JCyqMOiv0mlQ",
        "outputId": "d3905356-330c-4114-e540-f9e172a330e1"
      },
      "execution_count": null,
      "outputs": [
        {
          "output_type": "stream",
          "name": "stdout",
          "text": [
            "3\n",
            "3\n",
            "3.0\n",
            "<class 'str'>\n",
            "<class 'int'>\n",
            "<class 'float'>\n"
          ]
        }
      ]
    },
    {
      "cell_type": "code",
      "source": [
        "# Aspas podem ser simples ou duplas para string\n",
        "\n",
        "a = 'Sally'\n",
        "A = \"Sally\"\n",
        "\n",
        "print(a)\n",
        "print(A)\n",
        "\n",
        "print(type(a))\n",
        "print(type(A))"
      ],
      "metadata": {
        "colab": {
          "base_uri": "https://localhost:8080/"
        },
        "id": "1jcbYUnO1Fkf",
        "outputId": "3de3b8aa-5958-455b-a1d8-095317f9005f"
      },
      "execution_count": null,
      "outputs": [
        {
          "output_type": "stream",
          "name": "stdout",
          "text": [
            "Sally\n",
            "Sally\n",
            "<class 'str'>\n",
            "<class 'str'>\n"
          ]
        }
      ]
    },
    {
      "cell_type": "markdown",
      "source": [
        "\n",
        "    Um nome de variável deve começar com uma letra ou o caractere de sublinhado\n",
        "    Um nome de variável não pode começar com um número\n",
        "    Um nome de variável pode conter apenas caracteres alfanuméricos e sublinhados (Az, 0-9 e _ )\n",
        "    Os nomes das variáveis ​​diferenciam maiúsculas de minúsculas (idade, Idade e IDADE são três variáveis ​​diferentes)\n",
        "    Um nome de variável não pode ser nenhuma das palavras-chave do Python .\n",
        "\n",
        "    Lembre-se de que os nomes das variáveis ​​diferenciam maiúsculas de minúsculas\n"
      ],
      "metadata": {
        "id": "LXy-I4d733KE"
      }
    },
    {
      "cell_type": "code",
      "source": [
        "my_variable_name = \"John\"\n",
        "\n",
        "print(my_variable_name)"
      ],
      "metadata": {
        "colab": {
          "base_uri": "https://localhost:8080/"
        },
        "id": "tSxVWRKM35aY",
        "outputId": "496a8d5e-8658-4e1e-aae7-958bf9e19cf6"
      },
      "execution_count": 11,
      "outputs": [
        {
          "output_type": "stream",
          "name": "stdout",
          "text": [
            "John\n"
          ]
        }
      ]
    },
    {
      "cell_type": "code",
      "source": [
        "# O Python permite que você atribua valores a várias variáveis ​​em uma linha:\n",
        "\n",
        "x, y, z = \"Laranja\", \"Banana\", \"Cereja\"\n",
        "print(x)\n",
        "print(y)\n",
        "print(z)\n",
        "\n",
        "a = b = c = \"Abacaxi\"\n",
        "print(a)\n",
        "print(b)\n",
        "print(c)"
      ],
      "metadata": {
        "colab": {
          "base_uri": "https://localhost:8080/"
        },
        "id": "_FWhQZdo4g9C",
        "outputId": "3829226c-abb2-4b3e-8cdb-98fc36d0a63e"
      },
      "execution_count": 15,
      "outputs": [
        {
          "output_type": "stream",
          "name": "stdout",
          "text": [
            "Laranja\n",
            "Banana\n",
            "Cereja\n",
            "Abacaxi\n",
            "Abacaxi\n",
            "Abacaxi\n"
          ]
        }
      ]
    },
    {
      "cell_type": "code",
      "source": [
        "#Desempacotar lista\n",
        "\n",
        "fruits = [\"maçã\", \"banana\", \"cereja\"]\n",
        "print(fruits)\n",
        "\n",
        "x, y, z = fruits\n",
        "print(x)\n",
        "print(y)\n",
        "print(z)"
      ],
      "metadata": {
        "colab": {
          "base_uri": "https://localhost:8080/"
        },
        "id": "6WUJvKq25HmZ",
        "outputId": "5c593853-26dd-44ad-cf73-d5f63f008724"
      },
      "execution_count": 19,
      "outputs": [
        {
          "output_type": "stream",
          "name": "stdout",
          "text": [
            "['maçã', 'banana', 'cereja']\n",
            "maçã\n",
            "banana\n",
            "cereja\n"
          ]
        }
      ]
    },
    {
      "cell_type": "code",
      "source": [
        "#Variáveis de saída\n",
        "\n",
        "w = \"Python é fácil\"\n",
        "print(w)\n",
        "\n",
        "x = \"Python \"\n",
        "y = \"é \"\n",
        "z = \"fácil\"\n",
        "print(x, y, z)\n",
        "\n",
        "print(x + y + z)"
      ],
      "metadata": {
        "colab": {
          "base_uri": "https://localhost:8080/"
        },
        "id": "4lxctygU5m1t",
        "outputId": "e0962ad5-45a7-4b5d-df8e-8f187a9b1417"
      },
      "execution_count": 22,
      "outputs": [
        {
          "output_type": "stream",
          "name": "stdout",
          "text": [
            "Python é fácil\n",
            "Python  é  fácil\n",
            "Python é fácil\n"
          ]
        }
      ]
    },
    {
      "cell_type": "code",
      "source": [
        "#Variáveis de saída numéricas\n",
        "\n",
        "# x = \"Maria\" não pode ser usada str junto com int\n",
        "y = 4\n",
        "z = 5\n",
        "#print(x + y + z) daria erro aqui.\n",
        "print(y+z)"
      ],
      "metadata": {
        "colab": {
          "base_uri": "https://localhost:8080/"
        },
        "id": "vzJc95X_6LJ5",
        "outputId": "c68f5abc-65c9-4cc6-cf85-60ef5348e8f8"
      },
      "execution_count": 25,
      "outputs": [
        {
          "output_type": "stream",
          "name": "stdout",
          "text": [
            "9\n"
          ]
        }
      ]
    },
    {
      "cell_type": "markdown",
      "source": [
        "**Variáveis Globais**\n",
        "\n",
        "Variáveis ​​criadas fora de uma função (como em todos os exemplos acima) são conhecidas como variáveis ​​globais.\n",
        "\n",
        "As variáveis ​​globais podem ser usadas por todos, tanto dentro quanto fora das funções.\n"
      ],
      "metadata": {
        "id": "eKecaV5l655d"
      }
    },
    {
      "cell_type": "code",
      "source": [
        "x = \"fácil\"\n",
        "\n",
        "def myfunc():\n",
        "  print(\"Python é \" + x)\n",
        "\n",
        "myfunc()"
      ],
      "metadata": {
        "colab": {
          "base_uri": "https://localhost:8080/"
        },
        "id": "vL9-EwdA68YG",
        "outputId": "aeae26fb-bd86-48c5-8331-b9344abf52a2"
      },
      "execution_count": 26,
      "outputs": [
        {
          "output_type": "stream",
          "name": "stdout",
          "text": [
            "Python é fácil\n"
          ]
        }
      ]
    },
    {
      "cell_type": "markdown",
      "source": [
        "Se você criar uma variável com o mesmo nome dentro de uma função, esta variável será local, e só poderá ser utilizada dentro da função. A variável global com o mesmo nome permanecerá como estava, global e com o valor original."
      ],
      "metadata": {
        "id": "RJF8SD8s7ZqZ"
      }
    },
    {
      "cell_type": "code",
      "source": [
        "x = \"fácil\"\n",
        "\n",
        "def myfunc():\n",
        "  # Para usar global dentro da função: global x\n",
        "  x = \"fantástico\"\n",
        "  print(\"Python é \" + x)\n",
        "\n",
        "myfunc()\n",
        "\n",
        "print(\"Python é \" + x)"
      ],
      "metadata": {
        "colab": {
          "base_uri": "https://localhost:8080/"
        },
        "id": "4DXO_xFE7OYv",
        "outputId": "44e134b1-6a0a-4577-a5cc-9a32e4a760b0"
      },
      "execution_count": 28,
      "outputs": [
        {
          "output_type": "stream",
          "name": "stdout",
          "text": [
            "Python é fantástico\n",
            "Python é fácil\n"
          ]
        }
      ]
    },
    {
      "cell_type": "markdown",
      "source": [
        "Para alterar o valor de uma variável global dentro de uma função, consulte a variável usando a globalpalavra-chave:"
      ],
      "metadata": {
        "id": "W8fm5M1V8Qr5"
      }
    },
    {
      "cell_type": "code",
      "source": [
        "x = \"fácil\"\n",
        "\n",
        "def myfunc():\n",
        "  global x\n",
        "  x = \"fantástico\"\n",
        "\n",
        "myfunc()\n",
        "\n",
        "print(\"Python é \" + x)"
      ],
      "metadata": {
        "colab": {
          "base_uri": "https://localhost:8080/"
        },
        "id": "wRvxKJJU8DAc",
        "outputId": "41cf6999-c23f-4551-a255-acba4164883e"
      },
      "execution_count": 29,
      "outputs": [
        {
          "output_type": "stream",
          "name": "stdout",
          "text": [
            "Python é fantástico\n"
          ]
        }
      ]
    }
  ]
}